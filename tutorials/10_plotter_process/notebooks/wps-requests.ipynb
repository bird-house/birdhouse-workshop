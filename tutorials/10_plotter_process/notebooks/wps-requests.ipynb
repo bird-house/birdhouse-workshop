{
 "cells": [
  {
   "cell_type": "code",
   "execution_count": 1,
   "metadata": {},
   "outputs": [],
   "source": [
    "import requests"
   ]
  },
  {
   "cell_type": "markdown",
   "metadata": {},
   "source": [
    "# Get Service Capabilities"
   ]
  },
  {
   "cell_type": "code",
   "execution_count": 2,
   "metadata": {},
   "outputs": [],
   "source": [
    "wps_url = 'http://localhost:5000/wps'"
   ]
  },
  {
   "cell_type": "code",
   "execution_count": 5,
   "metadata": {},
   "outputs": [
    {
     "name": "stdout",
     "output_type": "stream",
     "text": [
      "http://localhost:5000/wps?service=WPS&request=GetCapabilities\n"
     ]
    }
   ],
   "source": [
    "resp = requests.get(wps_url + '?service=WPS&request=GetCapabilities')\n",
    "print(resp.url)\n",
    "# print(resp.content)"
   ]
  },
  {
   "cell_type": "markdown",
   "metadata": {},
   "source": [
    "# Describe simple_plot Process"
   ]
  },
  {
   "cell_type": "code",
   "execution_count": 6,
   "metadata": {},
   "outputs": [
    {
     "name": "stdout",
     "output_type": "stream",
     "text": [
      "http://localhost:5000/wps?service=WPS&request=DescribeProcess&version=1.0.0&identifier=simple_plot\n"
     ]
    }
   ],
   "source": [
    "resp = requests.get(wps_url + '?service=WPS&request=DescribeProcess&version=1.0.0&identifier=simple_plot')\n",
    "print(resp.url)\n",
    "# print(resp.content)"
   ]
  },
  {
   "cell_type": "markdown",
   "metadata": {},
   "source": [
    "# Execute simple_plot Process"
   ]
  },
  {
   "cell_type": "code",
   "execution_count": 11,
   "metadata": {},
   "outputs": [
    {
     "name": "stdout",
     "output_type": "stream",
     "text": [
      "http://localhost:5000/wps?service=WPS&request=Execute&version=1.0.0&identifier=simple_plot&datainputs=dataset=@xlink:href=https://www.esrl.noaa.gov/psd/thredds/fileServer/Datasets/ncep.reanalysis.derived/surface/air.mon.ltm.nc;variable=air\n"
     ]
    }
   ],
   "source": [
    "nc_url = \"https://www.esrl.noaa.gov/psd/thredds/fileServer/Datasets/ncep.reanalysis.derived/surface/air.mon.ltm.nc\"\n",
    "req_url = wps_url + '?service=WPS&request=Execute&version=1.0.0&'\n",
    "req_url += 'identifier=simple_plot&'\n",
    "req_url += 'datainputs=dataset=@xlink:href={};variable=air'.format(nc_url)\n",
    "resp = requests.get(req_url)\n",
    "print(resp.url)"
   ]
  },
  {
   "cell_type": "markdown",
   "metadata": {
    "collapsed": true
   },
   "source": [
    "# Execute simple_plot Process asynchronously"
   ]
  },
  {
   "cell_type": "code",
   "execution_count": 12,
   "metadata": {},
   "outputs": [
    {
     "name": "stdout",
     "output_type": "stream",
     "text": [
      "http://localhost:5000/wps?service=WPS&request=Execute&version=1.0.0&identifier=simple_plot&datainputs=dataset=@xlink:href=https://www.esrl.noaa.gov/psd/thredds/fileServer/Datasets/ncep.reanalysis.derived/surface/air.mon.ltm.nc;variable=air&storeExecuteResponse=true&status=true\n"
     ]
    }
   ],
   "source": [
    "nc_url = \"https://www.esrl.noaa.gov/psd/thredds/fileServer/Datasets/ncep.reanalysis.derived/surface/air.mon.ltm.nc\"\n",
    "req_url = wps_url + '?service=WPS&request=Execute&version=1.0.0&'\n",
    "req_url += 'identifier=simple_plot&'\n",
    "req_url += 'datainputs=dataset=@xlink:href={};variable=air&'.format(nc_url)\n",
    "req_url += 'storeExecuteResponse=true&'\n",
    "req_url += 'status=true'\n",
    "resp = requests.get(req_url)\n",
    "print(resp.url)"
   ]
  },
  {
   "cell_type": "code",
   "execution_count": null,
   "metadata": {},
   "outputs": [],
   "source": []
  }
 ],
 "metadata": {
  "kernelspec": {
   "display_name": "Python 3",
   "language": "python",
   "name": "python3"
  },
  "language_info": {
   "codemirror_mode": {
    "name": "ipython",
    "version": 3
   },
   "file_extension": ".py",
   "mimetype": "text/x-python",
   "name": "python",
   "nbconvert_exporter": "python",
   "pygments_lexer": "ipython3",
   "version": "3.6.2"
  }
 },
 "nbformat": 4,
 "nbformat_minor": 2
}
